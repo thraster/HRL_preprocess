{
 "cells": [
  {
   "cell_type": "code",
   "execution_count": null,
   "metadata": {},
   "outputs": [],
   "source": [
    "import data_reader as dr\n",
    "import os\n",
    "\n",
    "s1 = dr.read_data(\"F:\\dataset\\pressure_mat_pose_data\\subject_GF5Q3\")\n",
    "s1.load_files()\n",
    "s1.data_info()\n"
   ]
  },
  {
   "cell_type": "markdown",
   "metadata": {},
   "source": [
    "测试函数data2file的功能"
   ]
  },
  {
   "cell_type": "code",
   "execution_count": null,
   "metadata": {},
   "outputs": [],
   "source": [
    "s1.data_to_file(r'F:\\dataset\\pressure_mat_pose_data\\dataset')"
   ]
  }
 ],
 "metadata": {
  "language_info": {
   "name": "python"
  },
  "orig_nbformat": 4
 },
 "nbformat": 4,
 "nbformat_minor": 2
}
