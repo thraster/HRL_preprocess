{
 "cells": [
  {
   "cell_type": "code",
   "execution_count": 1,
   "metadata": {},
   "outputs": [],
   "source": [
    "import data_processing as dp\n",
    "from create_dataset_lib import CreateDatasetLib\n",
    "import numpy as np"
   ]
  },
  {
   "cell_type": "code",
   "execution_count": 19,
   "metadata": {},
   "outputs": [
    {
     "data": {
      "text/plain": [
       "(['F:\\\\dataset\\\\pressure_mat_pose_data\\\\create_dataset.py',\n",
       "  'F:\\\\dataset\\\\pressure_mat_pose_data\\\\create_dataset_lib.py',\n",
       "  'F:\\\\dataset\\\\pressure_mat_pose_data\\\\data_processing.py',\n",
       "  'F:\\\\dataset\\\\pressure_mat_pose_data\\\\data_reader.py',\n",
       "  'F:\\\\dataset\\\\pressure_mat_pose_data\\\\mat_axes.p',\n",
       "  'F:\\\\dataset\\\\pressure_mat_pose_data\\\\README.md',\n",
       "  'F:\\\\dataset\\\\pressure_mat_pose_data\\\\subject_ht_wt_age_size.txt',\n",
       "  'F:\\\\dataset\\\\pressure_mat_pose_data\\\\Untitled-1.ipynb',\n",
       "  'F:\\\\dataset\\\\pressure_mat_pose_data\\\\subject_1YJAG\\\\head.p',\n",
       "  'F:\\\\dataset\\\\pressure_mat_pose_data\\\\subject_1YJAG\\\\head_sitting.p',\n",
       "  'F:\\\\dataset\\\\pressure_mat_pose_data\\\\subject_1YJAG\\\\home.p',\n",
       "  'F:\\\\dataset\\\\pressure_mat_pose_data\\\\subject_1YJAG\\\\home_sitting.p',\n",
       "  'F:\\\\dataset\\\\pressure_mat_pose_data\\\\subject_1YJAG\\\\LH1.p',\n",
       "  'F:\\\\dataset\\\\pressure_mat_pose_data\\\\subject_1YJAG\\\\LH2.p',\n",
       "  'F:\\\\dataset\\\\pressure_mat_pose_data\\\\subject_1YJAG\\\\LH3.p',\n",
       "  'F:\\\\dataset\\\\pressure_mat_pose_data\\\\subject_1YJAG\\\\LH_sitting.p',\n",
       "  'F:\\\\dataset\\\\pressure_mat_pose_data\\\\subject_1YJAG\\\\LL.p',\n",
       "  'F:\\\\dataset\\\\pressure_mat_pose_data\\\\subject_1YJAG\\\\LL_air.p',\n",
       "  'F:\\\\dataset\\\\pressure_mat_pose_data\\\\subject_1YJAG\\\\LL_air_only.p',\n",
       "  'F:\\\\dataset\\\\pressure_mat_pose_data\\\\subject_1YJAG\\\\LL_sitting.p',\n",
       "  'F:\\\\dataset\\\\pressure_mat_pose_data\\\\subject_1YJAG\\\\RH1.p',\n",
       "  'F:\\\\dataset\\\\pressure_mat_pose_data\\\\subject_1YJAG\\\\RH2.p',\n",
       "  'F:\\\\dataset\\\\pressure_mat_pose_data\\\\subject_1YJAG\\\\RH3.p',\n",
       "  'F:\\\\dataset\\\\pressure_mat_pose_data\\\\subject_1YJAG\\\\RH_sitting.p',\n",
       "  'F:\\\\dataset\\\\pressure_mat_pose_data\\\\subject_1YJAG\\\\RL.p',\n",
       "  'F:\\\\dataset\\\\pressure_mat_pose_data\\\\subject_1YJAG\\\\RL_air.p',\n",
       "  'F:\\\\dataset\\\\pressure_mat_pose_data\\\\subject_1YJAG\\\\RL_air_only.p',\n",
       "  'F:\\\\dataset\\\\pressure_mat_pose_data\\\\subject_1YJAG\\\\RL_sitting.p',\n",
       "  'F:\\\\dataset\\\\pressure_mat_pose_data\\\\subject_40ESJ\\\\head.p',\n",
       "  'F:\\\\dataset\\\\pressure_mat_pose_data\\\\subject_40ESJ\\\\head_sitting.p',\n",
       "  'F:\\\\dataset\\\\pressure_mat_pose_data\\\\subject_40ESJ\\\\home.p',\n",
       "  'F:\\\\dataset\\\\pressure_mat_pose_data\\\\subject_40ESJ\\\\home_sitting.p',\n",
       "  'F:\\\\dataset\\\\pressure_mat_pose_data\\\\subject_40ESJ\\\\LH1.p',\n",
       "  'F:\\\\dataset\\\\pressure_mat_pose_data\\\\subject_40ESJ\\\\LH2.p',\n",
       "  'F:\\\\dataset\\\\pressure_mat_pose_data\\\\subject_40ESJ\\\\LH3.p',\n",
       "  'F:\\\\dataset\\\\pressure_mat_pose_data\\\\subject_40ESJ\\\\LH_sitting.p',\n",
       "  'F:\\\\dataset\\\\pressure_mat_pose_data\\\\subject_40ESJ\\\\LL.p',\n",
       "  'F:\\\\dataset\\\\pressure_mat_pose_data\\\\subject_40ESJ\\\\LL_sitting.p',\n",
       "  'F:\\\\dataset\\\\pressure_mat_pose_data\\\\subject_40ESJ\\\\RH1.p',\n",
       "  'F:\\\\dataset\\\\pressure_mat_pose_data\\\\subject_40ESJ\\\\RH2.p',\n",
       "  'F:\\\\dataset\\\\pressure_mat_pose_data\\\\subject_40ESJ\\\\RH3.p',\n",
       "  'F:\\\\dataset\\\\pressure_mat_pose_data\\\\subject_40ESJ\\\\RH_sitting.p',\n",
       "  'F:\\\\dataset\\\\pressure_mat_pose_data\\\\subject_40ESJ\\\\RL.p',\n",
       "  'F:\\\\dataset\\\\pressure_mat_pose_data\\\\subject_40ESJ\\\\RL_sitting.p',\n",
       "  'F:\\\\dataset\\\\pressure_mat_pose_data\\\\subject_4ZZZQ\\\\head.p',\n",
       "  'F:\\\\dataset\\\\pressure_mat_pose_data\\\\subject_4ZZZQ\\\\head_sitting.p',\n",
       "  'F:\\\\dataset\\\\pressure_mat_pose_data\\\\subject_4ZZZQ\\\\home.p',\n",
       "  'F:\\\\dataset\\\\pressure_mat_pose_data\\\\subject_4ZZZQ\\\\home_sitting.p',\n",
       "  'F:\\\\dataset\\\\pressure_mat_pose_data\\\\subject_4ZZZQ\\\\LH1.p',\n",
       "  'F:\\\\dataset\\\\pressure_mat_pose_data\\\\subject_4ZZZQ\\\\LH2.p',\n",
       "  'F:\\\\dataset\\\\pressure_mat_pose_data\\\\subject_4ZZZQ\\\\LH3.p',\n",
       "  'F:\\\\dataset\\\\pressure_mat_pose_data\\\\subject_4ZZZQ\\\\LH_sitting.p',\n",
       "  'F:\\\\dataset\\\\pressure_mat_pose_data\\\\subject_4ZZZQ\\\\LL.p',\n",
       "  'F:\\\\dataset\\\\pressure_mat_pose_data\\\\subject_4ZZZQ\\\\LL_air.p',\n",
       "  'F:\\\\dataset\\\\pressure_mat_pose_data\\\\subject_4ZZZQ\\\\LL_air_only.p',\n",
       "  'F:\\\\dataset\\\\pressure_mat_pose_data\\\\subject_4ZZZQ\\\\LL_sitting.p',\n",
       "  'F:\\\\dataset\\\\pressure_mat_pose_data\\\\subject_4ZZZQ\\\\RH1.p',\n",
       "  'F:\\\\dataset\\\\pressure_mat_pose_data\\\\subject_4ZZZQ\\\\RH2.p',\n",
       "  'F:\\\\dataset\\\\pressure_mat_pose_data\\\\subject_4ZZZQ\\\\RH3.p',\n",
       "  'F:\\\\dataset\\\\pressure_mat_pose_data\\\\subject_4ZZZQ\\\\RH_sitting.p',\n",
       "  'F:\\\\dataset\\\\pressure_mat_pose_data\\\\subject_4ZZZQ\\\\RL.p',\n",
       "  'F:\\\\dataset\\\\pressure_mat_pose_data\\\\subject_4ZZZQ\\\\RL_air.p',\n",
       "  'F:\\\\dataset\\\\pressure_mat_pose_data\\\\subject_4ZZZQ\\\\RL_air_only.p',\n",
       "  'F:\\\\dataset\\\\pressure_mat_pose_data\\\\subject_4ZZZQ\\\\RL_sitting.p',\n",
       "  'F:\\\\dataset\\\\pressure_mat_pose_data\\\\subject_5LDJG\\\\head.p',\n",
       "  'F:\\\\dataset\\\\pressure_mat_pose_data\\\\subject_5LDJG\\\\head_sitting.p',\n",
       "  'F:\\\\dataset\\\\pressure_mat_pose_data\\\\subject_5LDJG\\\\home.p',\n",
       "  'F:\\\\dataset\\\\pressure_mat_pose_data\\\\subject_5LDJG\\\\home_sitting.p',\n",
       "  'F:\\\\dataset\\\\pressure_mat_pose_data\\\\subject_5LDJG\\\\LH1.p',\n",
       "  'F:\\\\dataset\\\\pressure_mat_pose_data\\\\subject_5LDJG\\\\LH2.p',\n",
       "  'F:\\\\dataset\\\\pressure_mat_pose_data\\\\subject_5LDJG\\\\LH3.p',\n",
       "  'F:\\\\dataset\\\\pressure_mat_pose_data\\\\subject_5LDJG\\\\LH_sitting.p',\n",
       "  'F:\\\\dataset\\\\pressure_mat_pose_data\\\\subject_5LDJG\\\\LL.p',\n",
       "  'F:\\\\dataset\\\\pressure_mat_pose_data\\\\subject_5LDJG\\\\LL_air.p',\n",
       "  'F:\\\\dataset\\\\pressure_mat_pose_data\\\\subject_5LDJG\\\\LL_air_only.p',\n",
       "  'F:\\\\dataset\\\\pressure_mat_pose_data\\\\subject_5LDJG\\\\LL_sitting.p',\n",
       "  'F:\\\\dataset\\\\pressure_mat_pose_data\\\\subject_5LDJG\\\\RH1.p',\n",
       "  'F:\\\\dataset\\\\pressure_mat_pose_data\\\\subject_5LDJG\\\\RH2.p',\n",
       "  'F:\\\\dataset\\\\pressure_mat_pose_data\\\\subject_5LDJG\\\\RH3.p',\n",
       "  'F:\\\\dataset\\\\pressure_mat_pose_data\\\\subject_5LDJG\\\\RH_sitting.p',\n",
       "  'F:\\\\dataset\\\\pressure_mat_pose_data\\\\subject_5LDJG\\\\RL.p',\n",
       "  'F:\\\\dataset\\\\pressure_mat_pose_data\\\\subject_5LDJG\\\\RL_air.p',\n",
       "  'F:\\\\dataset\\\\pressure_mat_pose_data\\\\subject_5LDJG\\\\RL_air_only.p',\n",
       "  'F:\\\\dataset\\\\pressure_mat_pose_data\\\\subject_5LDJG\\\\RL_sitting.p',\n",
       "  'F:\\\\dataset\\\\pressure_mat_pose_data\\\\subject_A4G4Y\\\\LH1.p',\n",
       "  'F:\\\\dataset\\\\pressure_mat_pose_data\\\\subject_A4G4Y\\\\LH2.p',\n",
       "  'F:\\\\dataset\\\\pressure_mat_pose_data\\\\subject_A4G4Y\\\\LH3.p',\n",
       "  'F:\\\\dataset\\\\pressure_mat_pose_data\\\\subject_A4G4Y\\\\LH_sitting.p',\n",
       "  'F:\\\\dataset\\\\pressure_mat_pose_data\\\\subject_A4G4Y\\\\LL.p',\n",
       "  'F:\\\\dataset\\\\pressure_mat_pose_data\\\\subject_A4G4Y\\\\LL_air.p',\n",
       "  'F:\\\\dataset\\\\pressure_mat_pose_data\\\\subject_A4G4Y\\\\LL_air_only.p',\n",
       "  'F:\\\\dataset\\\\pressure_mat_pose_data\\\\subject_A4G4Y\\\\LL_sitting.p',\n",
       "  'F:\\\\dataset\\\\pressure_mat_pose_data\\\\subject_A4G4Y\\\\RH1.p',\n",
       "  'F:\\\\dataset\\\\pressure_mat_pose_data\\\\subject_A4G4Y\\\\RH2.p',\n",
       "  'F:\\\\dataset\\\\pressure_mat_pose_data\\\\subject_A4G4Y\\\\RH3.p',\n",
       "  'F:\\\\dataset\\\\pressure_mat_pose_data\\\\subject_A4G4Y\\\\RH_sitting.p',\n",
       "  'F:\\\\dataset\\\\pressure_mat_pose_data\\\\subject_A4G4Y\\\\RL.p',\n",
       "  'F:\\\\dataset\\\\pressure_mat_pose_data\\\\subject_A4G4Y\\\\RL_air.p',\n",
       "  'F:\\\\dataset\\\\pressure_mat_pose_data\\\\subject_A4G4Y\\\\RL_air_only.p',\n",
       "  'F:\\\\dataset\\\\pressure_mat_pose_data\\\\subject_A4G4Y\\\\RL_sitting.p',\n",
       "  'F:\\\\dataset\\\\pressure_mat_pose_data\\\\subject_FMNGQ\\\\head.p',\n",
       "  'F:\\\\dataset\\\\pressure_mat_pose_data\\\\subject_FMNGQ\\\\head_sitting.p',\n",
       "  'F:\\\\dataset\\\\pressure_mat_pose_data\\\\subject_FMNGQ\\\\home.p',\n",
       "  'F:\\\\dataset\\\\pressure_mat_pose_data\\\\subject_FMNGQ\\\\home_sitting.p',\n",
       "  'F:\\\\dataset\\\\pressure_mat_pose_data\\\\subject_FMNGQ\\\\LH1.p',\n",
       "  'F:\\\\dataset\\\\pressure_mat_pose_data\\\\subject_FMNGQ\\\\LH2.p',\n",
       "  'F:\\\\dataset\\\\pressure_mat_pose_data\\\\subject_FMNGQ\\\\LH3.p',\n",
       "  'F:\\\\dataset\\\\pressure_mat_pose_data\\\\subject_FMNGQ\\\\LH_sitting.p',\n",
       "  'F:\\\\dataset\\\\pressure_mat_pose_data\\\\subject_FMNGQ\\\\LL.p',\n",
       "  'F:\\\\dataset\\\\pressure_mat_pose_data\\\\subject_FMNGQ\\\\LL_sitting.p',\n",
       "  'F:\\\\dataset\\\\pressure_mat_pose_data\\\\subject_FMNGQ\\\\RH1.p',\n",
       "  'F:\\\\dataset\\\\pressure_mat_pose_data\\\\subject_FMNGQ\\\\RH2.p',\n",
       "  'F:\\\\dataset\\\\pressure_mat_pose_data\\\\subject_FMNGQ\\\\RH3.p',\n",
       "  'F:\\\\dataset\\\\pressure_mat_pose_data\\\\subject_FMNGQ\\\\RH_sitting.p',\n",
       "  'F:\\\\dataset\\\\pressure_mat_pose_data\\\\subject_FMNGQ\\\\RL.p',\n",
       "  'F:\\\\dataset\\\\pressure_mat_pose_data\\\\subject_FMNGQ\\\\RL_sitting.p',\n",
       "  'F:\\\\dataset\\\\pressure_mat_pose_data\\\\subject_G55Q1\\\\head.p',\n",
       "  'F:\\\\dataset\\\\pressure_mat_pose_data\\\\subject_G55Q1\\\\head_sitting.p',\n",
       "  'F:\\\\dataset\\\\pressure_mat_pose_data\\\\subject_G55Q1\\\\home.p',\n",
       "  'F:\\\\dataset\\\\pressure_mat_pose_data\\\\subject_G55Q1\\\\home_sitting.p',\n",
       "  'F:\\\\dataset\\\\pressure_mat_pose_data\\\\subject_G55Q1\\\\LH1.p',\n",
       "  'F:\\\\dataset\\\\pressure_mat_pose_data\\\\subject_G55Q1\\\\LH2.p',\n",
       "  'F:\\\\dataset\\\\pressure_mat_pose_data\\\\subject_G55Q1\\\\LH3.p',\n",
       "  'F:\\\\dataset\\\\pressure_mat_pose_data\\\\subject_G55Q1\\\\LH_sitting.p',\n",
       "  'F:\\\\dataset\\\\pressure_mat_pose_data\\\\subject_G55Q1\\\\LL.p',\n",
       "  'F:\\\\dataset\\\\pressure_mat_pose_data\\\\subject_G55Q1\\\\LL_air.p',\n",
       "  'F:\\\\dataset\\\\pressure_mat_pose_data\\\\subject_G55Q1\\\\LL_air_only.p',\n",
       "  'F:\\\\dataset\\\\pressure_mat_pose_data\\\\subject_G55Q1\\\\LL_sitting.p',\n",
       "  'F:\\\\dataset\\\\pressure_mat_pose_data\\\\subject_G55Q1\\\\RH1.p',\n",
       "  'F:\\\\dataset\\\\pressure_mat_pose_data\\\\subject_G55Q1\\\\RH2.p',\n",
       "  'F:\\\\dataset\\\\pressure_mat_pose_data\\\\subject_G55Q1\\\\RH3.p',\n",
       "  'F:\\\\dataset\\\\pressure_mat_pose_data\\\\subject_G55Q1\\\\RH_sitting.p',\n",
       "  'F:\\\\dataset\\\\pressure_mat_pose_data\\\\subject_G55Q1\\\\RL.p',\n",
       "  'F:\\\\dataset\\\\pressure_mat_pose_data\\\\subject_G55Q1\\\\RL_air.p',\n",
       "  'F:\\\\dataset\\\\pressure_mat_pose_data\\\\subject_G55Q1\\\\RL_air_only.p',\n",
       "  'F:\\\\dataset\\\\pressure_mat_pose_data\\\\subject_G55Q1\\\\RL_sitting.p',\n",
       "  'F:\\\\dataset\\\\pressure_mat_pose_data\\\\subject_GF5Q3\\\\head.p',\n",
       "  'F:\\\\dataset\\\\pressure_mat_pose_data\\\\subject_GF5Q3\\\\head_sitting.p',\n",
       "  'F:\\\\dataset\\\\pressure_mat_pose_data\\\\subject_GF5Q3\\\\home.p',\n",
       "  'F:\\\\dataset\\\\pressure_mat_pose_data\\\\subject_GF5Q3\\\\home_sitting.p',\n",
       "  'F:\\\\dataset\\\\pressure_mat_pose_data\\\\subject_GF5Q3\\\\LH1.p',\n",
       "  'F:\\\\dataset\\\\pressure_mat_pose_data\\\\subject_GF5Q3\\\\LH2.p',\n",
       "  'F:\\\\dataset\\\\pressure_mat_pose_data\\\\subject_GF5Q3\\\\LH3.p',\n",
       "  'F:\\\\dataset\\\\pressure_mat_pose_data\\\\subject_GF5Q3\\\\LH_sitting.p',\n",
       "  'F:\\\\dataset\\\\pressure_mat_pose_data\\\\subject_GF5Q3\\\\LL.p',\n",
       "  'F:\\\\dataset\\\\pressure_mat_pose_data\\\\subject_GF5Q3\\\\LL_air.p',\n",
       "  'F:\\\\dataset\\\\pressure_mat_pose_data\\\\subject_GF5Q3\\\\LL_air_only.p',\n",
       "  'F:\\\\dataset\\\\pressure_mat_pose_data\\\\subject_GF5Q3\\\\LL_sitting.p',\n",
       "  'F:\\\\dataset\\\\pressure_mat_pose_data\\\\subject_GF5Q3\\\\RH1.p',\n",
       "  'F:\\\\dataset\\\\pressure_mat_pose_data\\\\subject_GF5Q3\\\\RH2.p',\n",
       "  'F:\\\\dataset\\\\pressure_mat_pose_data\\\\subject_GF5Q3\\\\RH3.p',\n",
       "  'F:\\\\dataset\\\\pressure_mat_pose_data\\\\subject_GF5Q3\\\\RH_sitting.p',\n",
       "  'F:\\\\dataset\\\\pressure_mat_pose_data\\\\subject_GF5Q3\\\\RL.p',\n",
       "  'F:\\\\dataset\\\\pressure_mat_pose_data\\\\subject_GF5Q3\\\\RL_air.p',\n",
       "  'F:\\\\dataset\\\\pressure_mat_pose_data\\\\subject_GF5Q3\\\\RL_air_only.p',\n",
       "  'F:\\\\dataset\\\\pressure_mat_pose_data\\\\subject_GF5Q3\\\\RL_sitting.p',\n",
       "  'F:\\\\dataset\\\\pressure_mat_pose_data\\\\subject_GRTJK\\\\head.p',\n",
       "  'F:\\\\dataset\\\\pressure_mat_pose_data\\\\subject_GRTJK\\\\head_sitting.p',\n",
       "  'F:\\\\dataset\\\\pressure_mat_pose_data\\\\subject_GRTJK\\\\home.p',\n",
       "  'F:\\\\dataset\\\\pressure_mat_pose_data\\\\subject_GRTJK\\\\home_sitting.p',\n",
       "  'F:\\\\dataset\\\\pressure_mat_pose_data\\\\subject_GRTJK\\\\LH1.p',\n",
       "  'F:\\\\dataset\\\\pressure_mat_pose_data\\\\subject_GRTJK\\\\LH2.p',\n",
       "  'F:\\\\dataset\\\\pressure_mat_pose_data\\\\subject_GRTJK\\\\LH3.p',\n",
       "  'F:\\\\dataset\\\\pressure_mat_pose_data\\\\subject_GRTJK\\\\LH_sitting.p',\n",
       "  'F:\\\\dataset\\\\pressure_mat_pose_data\\\\subject_GRTJK\\\\LL.p',\n",
       "  'F:\\\\dataset\\\\pressure_mat_pose_data\\\\subject_GRTJK\\\\LL_sitting.p',\n",
       "  'F:\\\\dataset\\\\pressure_mat_pose_data\\\\subject_GRTJK\\\\RH1.p',\n",
       "  'F:\\\\dataset\\\\pressure_mat_pose_data\\\\subject_GRTJK\\\\RH2.p',\n",
       "  'F:\\\\dataset\\\\pressure_mat_pose_data\\\\subject_GRTJK\\\\RH3.p',\n",
       "  'F:\\\\dataset\\\\pressure_mat_pose_data\\\\subject_GRTJK\\\\RH_sitting.p',\n",
       "  'F:\\\\dataset\\\\pressure_mat_pose_data\\\\subject_GRTJK\\\\RL.p',\n",
       "  'F:\\\\dataset\\\\pressure_mat_pose_data\\\\subject_GRTJK\\\\RL_sitting.p',\n",
       "  'F:\\\\dataset\\\\pressure_mat_pose_data\\\\subject_RQCLC\\\\head.p',\n",
       "  'F:\\\\dataset\\\\pressure_mat_pose_data\\\\subject_RQCLC\\\\home.p',\n",
       "  'F:\\\\dataset\\\\pressure_mat_pose_data\\\\subject_RQCLC\\\\LH1.p',\n",
       "  'F:\\\\dataset\\\\pressure_mat_pose_data\\\\subject_RQCLC\\\\LH2.p',\n",
       "  'F:\\\\dataset\\\\pressure_mat_pose_data\\\\subject_RQCLC\\\\LH3.p',\n",
       "  'F:\\\\dataset\\\\pressure_mat_pose_data\\\\subject_RQCLC\\\\LH_sitting.p',\n",
       "  'F:\\\\dataset\\\\pressure_mat_pose_data\\\\subject_RQCLC\\\\LL.p',\n",
       "  'F:\\\\dataset\\\\pressure_mat_pose_data\\\\subject_RQCLC\\\\LL_air.p',\n",
       "  'F:\\\\dataset\\\\pressure_mat_pose_data\\\\subject_RQCLC\\\\LL_air_only.p',\n",
       "  'F:\\\\dataset\\\\pressure_mat_pose_data\\\\subject_RQCLC\\\\LL_sitting.p',\n",
       "  'F:\\\\dataset\\\\pressure_mat_pose_data\\\\subject_RQCLC\\\\RH1.p',\n",
       "  'F:\\\\dataset\\\\pressure_mat_pose_data\\\\subject_RQCLC\\\\RH2.p',\n",
       "  'F:\\\\dataset\\\\pressure_mat_pose_data\\\\subject_RQCLC\\\\RH3.p',\n",
       "  'F:\\\\dataset\\\\pressure_mat_pose_data\\\\subject_RQCLC\\\\RH_sitting.p',\n",
       "  'F:\\\\dataset\\\\pressure_mat_pose_data\\\\subject_RQCLC\\\\RL.p',\n",
       "  'F:\\\\dataset\\\\pressure_mat_pose_data\\\\subject_RQCLC\\\\RL_air.p',\n",
       "  'F:\\\\dataset\\\\pressure_mat_pose_data\\\\subject_RQCLC\\\\RL_air_only.p',\n",
       "  'F:\\\\dataset\\\\pressure_mat_pose_data\\\\subject_RQCLC\\\\RL_sitting.p',\n",
       "  'F:\\\\dataset\\\\pressure_mat_pose_data\\\\subject_TSQNA\\\\B.p',\n",
       "  'F:\\\\dataset\\\\pressure_mat_pose_data\\\\subject_TSQNA\\\\head.p',\n",
       "  'F:\\\\dataset\\\\pressure_mat_pose_data\\\\subject_TSQNA\\\\head_sitting.p',\n",
       "  'F:\\\\dataset\\\\pressure_mat_pose_data\\\\subject_TSQNA\\\\home.p',\n",
       "  'F:\\\\dataset\\\\pressure_mat_pose_data\\\\subject_TSQNA\\\\home_sitting.p',\n",
       "  'F:\\\\dataset\\\\pressure_mat_pose_data\\\\subject_TSQNA\\\\LH1.p',\n",
       "  'F:\\\\dataset\\\\pressure_mat_pose_data\\\\subject_TSQNA\\\\LH2.p',\n",
       "  'F:\\\\dataset\\\\pressure_mat_pose_data\\\\subject_TSQNA\\\\LH3.p',\n",
       "  'F:\\\\dataset\\\\pressure_mat_pose_data\\\\subject_TSQNA\\\\LH_sitting.p',\n",
       "  'F:\\\\dataset\\\\pressure_mat_pose_data\\\\subject_TSQNA\\\\LL.p',\n",
       "  'F:\\\\dataset\\\\pressure_mat_pose_data\\\\subject_TSQNA\\\\LL_air.p',\n",
       "  'F:\\\\dataset\\\\pressure_mat_pose_data\\\\subject_TSQNA\\\\LL_air_only.p',\n",
       "  'F:\\\\dataset\\\\pressure_mat_pose_data\\\\subject_TSQNA\\\\LL_sitting.p',\n",
       "  'F:\\\\dataset\\\\pressure_mat_pose_data\\\\subject_TSQNA\\\\RH1.p',\n",
       "  'F:\\\\dataset\\\\pressure_mat_pose_data\\\\subject_TSQNA\\\\RH2.p',\n",
       "  'F:\\\\dataset\\\\pressure_mat_pose_data\\\\subject_TSQNA\\\\RH3.p',\n",
       "  'F:\\\\dataset\\\\pressure_mat_pose_data\\\\subject_TSQNA\\\\RH_sitting.p',\n",
       "  'F:\\\\dataset\\\\pressure_mat_pose_data\\\\subject_TSQNA\\\\RL.p',\n",
       "  'F:\\\\dataset\\\\pressure_mat_pose_data\\\\subject_TSQNA\\\\RL_air.p',\n",
       "  'F:\\\\dataset\\\\pressure_mat_pose_data\\\\subject_TSQNA\\\\RL_air_only.p',\n",
       "  'F:\\\\dataset\\\\pressure_mat_pose_data\\\\subject_TSQNA\\\\RL_sitting.p',\n",
       "  'F:\\\\dataset\\\\pressure_mat_pose_data\\\\subject_TSQNA\\\\test.p',\n",
       "  'F:\\\\dataset\\\\pressure_mat_pose_data\\\\subject_TX887\\\\head.p',\n",
       "  'F:\\\\dataset\\\\pressure_mat_pose_data\\\\subject_TX887\\\\head_sitting.p',\n",
       "  'F:\\\\dataset\\\\pressure_mat_pose_data\\\\subject_TX887\\\\home.p',\n",
       "  'F:\\\\dataset\\\\pressure_mat_pose_data\\\\subject_TX887\\\\home_sitting.p',\n",
       "  'F:\\\\dataset\\\\pressure_mat_pose_data\\\\subject_TX887\\\\LH1.p',\n",
       "  'F:\\\\dataset\\\\pressure_mat_pose_data\\\\subject_TX887\\\\LH2.p',\n",
       "  'F:\\\\dataset\\\\pressure_mat_pose_data\\\\subject_TX887\\\\LH3.p',\n",
       "  'F:\\\\dataset\\\\pressure_mat_pose_data\\\\subject_TX887\\\\LH_sitting.p',\n",
       "  'F:\\\\dataset\\\\pressure_mat_pose_data\\\\subject_TX887\\\\LL.p',\n",
       "  'F:\\\\dataset\\\\pressure_mat_pose_data\\\\subject_TX887\\\\LL_sitting.p',\n",
       "  'F:\\\\dataset\\\\pressure_mat_pose_data\\\\subject_TX887\\\\RH1.p',\n",
       "  'F:\\\\dataset\\\\pressure_mat_pose_data\\\\subject_TX887\\\\RH2.p',\n",
       "  'F:\\\\dataset\\\\pressure_mat_pose_data\\\\subject_TX887\\\\RH3.p',\n",
       "  'F:\\\\dataset\\\\pressure_mat_pose_data\\\\subject_TX887\\\\RH_sitting.p',\n",
       "  'F:\\\\dataset\\\\pressure_mat_pose_data\\\\subject_TX887\\\\RL.p',\n",
       "  'F:\\\\dataset\\\\pressure_mat_pose_data\\\\subject_TX887\\\\RL_sitting.p',\n",
       "  'F:\\\\dataset\\\\pressure_mat_pose_data\\\\subject_WCNOM\\\\LH1.p',\n",
       "  'F:\\\\dataset\\\\pressure_mat_pose_data\\\\subject_WCNOM\\\\LH2.p',\n",
       "  'F:\\\\dataset\\\\pressure_mat_pose_data\\\\subject_WCNOM\\\\LH3.p',\n",
       "  'F:\\\\dataset\\\\pressure_mat_pose_data\\\\subject_WCNOM\\\\LH_sitting.p',\n",
       "  'F:\\\\dataset\\\\pressure_mat_pose_data\\\\subject_WCNOM\\\\LL.p',\n",
       "  'F:\\\\dataset\\\\pressure_mat_pose_data\\\\subject_WCNOM\\\\LL_air.p',\n",
       "  'F:\\\\dataset\\\\pressure_mat_pose_data\\\\subject_WCNOM\\\\LL_air_only.p',\n",
       "  'F:\\\\dataset\\\\pressure_mat_pose_data\\\\subject_WCNOM\\\\LL_sitting.p',\n",
       "  'F:\\\\dataset\\\\pressure_mat_pose_data\\\\subject_WCNOM\\\\RH1.p',\n",
       "  'F:\\\\dataset\\\\pressure_mat_pose_data\\\\subject_WCNOM\\\\RH2.p',\n",
       "  'F:\\\\dataset\\\\pressure_mat_pose_data\\\\subject_WCNOM\\\\RH3.p',\n",
       "  'F:\\\\dataset\\\\pressure_mat_pose_data\\\\subject_WCNOM\\\\RH_sitting.p',\n",
       "  'F:\\\\dataset\\\\pressure_mat_pose_data\\\\subject_WCNOM\\\\RL.p',\n",
       "  'F:\\\\dataset\\\\pressure_mat_pose_data\\\\subject_WCNOM\\\\RL_air.p',\n",
       "  'F:\\\\dataset\\\\pressure_mat_pose_data\\\\subject_WCNOM\\\\RL_air_only.p',\n",
       "  'F:\\\\dataset\\\\pressure_mat_pose_data\\\\subject_WCNOM\\\\RL_sitting.p',\n",
       "  'F:\\\\dataset\\\\pressure_mat_pose_data\\\\subject_WE2SZ\\\\head.p',\n",
       "  'F:\\\\dataset\\\\pressure_mat_pose_data\\\\subject_WE2SZ\\\\head_sitting.p',\n",
       "  'F:\\\\dataset\\\\pressure_mat_pose_data\\\\subject_WE2SZ\\\\home_sitting.p',\n",
       "  'F:\\\\dataset\\\\pressure_mat_pose_data\\\\subject_WE2SZ\\\\LH1.p',\n",
       "  'F:\\\\dataset\\\\pressure_mat_pose_data\\\\subject_WE2SZ\\\\LH2.p',\n",
       "  'F:\\\\dataset\\\\pressure_mat_pose_data\\\\subject_WE2SZ\\\\LH3.p',\n",
       "  'F:\\\\dataset\\\\pressure_mat_pose_data\\\\subject_WE2SZ\\\\LH_sitting.p',\n",
       "  'F:\\\\dataset\\\\pressure_mat_pose_data\\\\subject_WE2SZ\\\\LL.p',\n",
       "  'F:\\\\dataset\\\\pressure_mat_pose_data\\\\subject_WE2SZ\\\\LL_air.p',\n",
       "  'F:\\\\dataset\\\\pressure_mat_pose_data\\\\subject_WE2SZ\\\\LL_air_only.p',\n",
       "  'F:\\\\dataset\\\\pressure_mat_pose_data\\\\subject_WE2SZ\\\\LL_sitting.p',\n",
       "  'F:\\\\dataset\\\\pressure_mat_pose_data\\\\subject_WE2SZ\\\\RH1.p',\n",
       "  'F:\\\\dataset\\\\pressure_mat_pose_data\\\\subject_WE2SZ\\\\RH2.p',\n",
       "  'F:\\\\dataset\\\\pressure_mat_pose_data\\\\subject_WE2SZ\\\\RH3.p',\n",
       "  'F:\\\\dataset\\\\pressure_mat_pose_data\\\\subject_WE2SZ\\\\RH_sitting.p',\n",
       "  'F:\\\\dataset\\\\pressure_mat_pose_data\\\\subject_WE2SZ\\\\RL.p',\n",
       "  'F:\\\\dataset\\\\pressure_mat_pose_data\\\\subject_WE2SZ\\\\RL_air.p',\n",
       "  'F:\\\\dataset\\\\pressure_mat_pose_data\\\\subject_WE2SZ\\\\RL_air_only.p',\n",
       "  'F:\\\\dataset\\\\pressure_mat_pose_data\\\\subject_WE2SZ\\\\RL_sitting.p',\n",
       "  'F:\\\\dataset\\\\pressure_mat_pose_data\\\\subject_WFGW9\\\\head.p',\n",
       "  'F:\\\\dataset\\\\pressure_mat_pose_data\\\\subject_WFGW9\\\\home.p',\n",
       "  'F:\\\\dataset\\\\pressure_mat_pose_data\\\\subject_WFGW9\\\\LH1.p',\n",
       "  'F:\\\\dataset\\\\pressure_mat_pose_data\\\\subject_WFGW9\\\\LH2.p',\n",
       "  'F:\\\\dataset\\\\pressure_mat_pose_data\\\\subject_WFGW9\\\\LH3.p',\n",
       "  'F:\\\\dataset\\\\pressure_mat_pose_data\\\\subject_WFGW9\\\\LH_sitting.p',\n",
       "  'F:\\\\dataset\\\\pressure_mat_pose_data\\\\subject_WFGW9\\\\LL.p',\n",
       "  'F:\\\\dataset\\\\pressure_mat_pose_data\\\\subject_WFGW9\\\\LL_sitting.p',\n",
       "  'F:\\\\dataset\\\\pressure_mat_pose_data\\\\subject_WFGW9\\\\RH1.p',\n",
       "  'F:\\\\dataset\\\\pressure_mat_pose_data\\\\subject_WFGW9\\\\RH2.p',\n",
       "  'F:\\\\dataset\\\\pressure_mat_pose_data\\\\subject_WFGW9\\\\RH3.p',\n",
       "  'F:\\\\dataset\\\\pressure_mat_pose_data\\\\subject_WFGW9\\\\RH_sitting.p',\n",
       "  'F:\\\\dataset\\\\pressure_mat_pose_data\\\\subject_WFGW9\\\\RL.p',\n",
       "  'F:\\\\dataset\\\\pressure_mat_pose_data\\\\subject_WFGW9\\\\RL_sitting.p',\n",
       "  'F:\\\\dataset\\\\pressure_mat_pose_data\\\\subject_WM9KJ\\\\head.p',\n",
       "  'F:\\\\dataset\\\\pressure_mat_pose_data\\\\subject_WM9KJ\\\\home.p',\n",
       "  'F:\\\\dataset\\\\pressure_mat_pose_data\\\\subject_WM9KJ\\\\LH1.p',\n",
       "  'F:\\\\dataset\\\\pressure_mat_pose_data\\\\subject_WM9KJ\\\\LH2.p',\n",
       "  'F:\\\\dataset\\\\pressure_mat_pose_data\\\\subject_WM9KJ\\\\LH3.p',\n",
       "  'F:\\\\dataset\\\\pressure_mat_pose_data\\\\subject_WM9KJ\\\\LH_sitting.p',\n",
       "  'F:\\\\dataset\\\\pressure_mat_pose_data\\\\subject_WM9KJ\\\\LL.p',\n",
       "  'F:\\\\dataset\\\\pressure_mat_pose_data\\\\subject_WM9KJ\\\\LL_sitting.p',\n",
       "  'F:\\\\dataset\\\\pressure_mat_pose_data\\\\subject_WM9KJ\\\\RH1.p',\n",
       "  'F:\\\\dataset\\\\pressure_mat_pose_data\\\\subject_WM9KJ\\\\RH2.p',\n",
       "  'F:\\\\dataset\\\\pressure_mat_pose_data\\\\subject_WM9KJ\\\\RH3.p',\n",
       "  'F:\\\\dataset\\\\pressure_mat_pose_data\\\\subject_WM9KJ\\\\RH_sitting.p',\n",
       "  'F:\\\\dataset\\\\pressure_mat_pose_data\\\\subject_WM9KJ\\\\RL.p',\n",
       "  'F:\\\\dataset\\\\pressure_mat_pose_data\\\\subject_WM9KJ\\\\RL_sitting.p',\n",
       "  'F:\\\\dataset\\\\pressure_mat_pose_data\\\\subject_ZV7TE\\\\head.p',\n",
       "  'F:\\\\dataset\\\\pressure_mat_pose_data\\\\subject_ZV7TE\\\\head_sitting.p',\n",
       "  'F:\\\\dataset\\\\pressure_mat_pose_data\\\\subject_ZV7TE\\\\home.p',\n",
       "  'F:\\\\dataset\\\\pressure_mat_pose_data\\\\subject_ZV7TE\\\\home_sitting.p',\n",
       "  'F:\\\\dataset\\\\pressure_mat_pose_data\\\\subject_ZV7TE\\\\LH1.p',\n",
       "  'F:\\\\dataset\\\\pressure_mat_pose_data\\\\subject_ZV7TE\\\\LH2.p',\n",
       "  'F:\\\\dataset\\\\pressure_mat_pose_data\\\\subject_ZV7TE\\\\LH3.p',\n",
       "  'F:\\\\dataset\\\\pressure_mat_pose_data\\\\subject_ZV7TE\\\\LH_sitting.p',\n",
       "  'F:\\\\dataset\\\\pressure_mat_pose_data\\\\subject_ZV7TE\\\\LL.p',\n",
       "  'F:\\\\dataset\\\\pressure_mat_pose_data\\\\subject_ZV7TE\\\\LL_sitting.p',\n",
       "  'F:\\\\dataset\\\\pressure_mat_pose_data\\\\subject_ZV7TE\\\\RH1.p',\n",
       "  'F:\\\\dataset\\\\pressure_mat_pose_data\\\\subject_ZV7TE\\\\RH2.p',\n",
       "  'F:\\\\dataset\\\\pressure_mat_pose_data\\\\subject_ZV7TE\\\\RH3.p',\n",
       "  'F:\\\\dataset\\\\pressure_mat_pose_data\\\\subject_ZV7TE\\\\RH_sitting.p',\n",
       "  'F:\\\\dataset\\\\pressure_mat_pose_data\\\\subject_ZV7TE\\\\RL.p',\n",
       "  'F:\\\\dataset\\\\pressure_mat_pose_data\\\\subject_ZV7TE\\\\RL_sitting.p',\n",
       "  'F:\\\\dataset\\\\pressure_mat_pose_data\\\\__pycache__\\\\create_dataset_lib.cpython-36.pyc',\n",
       "  'F:\\\\dataset\\\\pressure_mat_pose_data\\\\__pycache__\\\\data_processing.cpython-36.pyc'],\n",
       " ['subject_1YJAG',\n",
       "  'subject_40ESJ',\n",
       "  'subject_4ZZZQ',\n",
       "  'subject_5LDJG',\n",
       "  'subject_A4G4Y',\n",
       "  'subject_FMNGQ',\n",
       "  'subject_G55Q1',\n",
       "  'subject_GF5Q3',\n",
       "  'subject_GRTJK',\n",
       "  'subject_RQCLC',\n",
       "  'subject_TSQNA',\n",
       "  'subject_TX887',\n",
       "  'subject_WCNOM',\n",
       "  'subject_WE2SZ',\n",
       "  'subject_WFGW9',\n",
       "  'subject_WM9KJ',\n",
       "  'subject_ZV7TE',\n",
       "  '__pycache__'])"
      ]
     },
     "execution_count": 19,
     "metadata": {},
     "output_type": "execute_result"
    }
   ],
   "source": [
    "path = r\"F:\\dataset\\pressure_mat_pose_data\\subject_1YJAG\\head_sitting.p\"\n",
    "data = dp.load_pickle(path)\n"
   ]
  },
  {
   "cell_type": "code",
   "execution_count": 17,
   "metadata": {},
   "outputs": [
    {
     "name": "stdout",
     "output_type": "stream",
     "text": [
      "Current Directory: F:\\dataset\\pressure_mat_pose_data\\subject_1YJAG\n",
      "Subdirectories: []\n",
      "Files: ['head.p', 'head_sitting.p', 'home.p', 'home_sitting.p', 'LH1.p', 'LH2.p', 'LH3.p', 'LH_sitting.p', 'LL.p', 'LL_air.p', 'LL_air_only.p', 'LL_sitting.p', 'RH1.p', 'RH2.p', 'RH3.p', 'RH_sitting.p', 'RL.p', 'RL_air.p', 'RL_air_only.p', 'RL_sitting.p']\n",
      "\n",
      "\n"
     ]
    }
   ],
   "source": [
    "import os\n",
    "my_dir = r\"F:\\dataset\\pressure_mat_pose_data\\subject_1YJAG\"\n",
    "for root, dirs, files in os.walk(my_dir):\n",
    "    print(\"Current Directory:\", root)\n",
    "    print(\"Subdirectories:\", dirs)\n",
    "    print(\"Files:\", files)\n",
    "    print(\"\\n\")"
   ]
  },
  {
   "cell_type": "code",
   "execution_count": 3,
   "metadata": {},
   "outputs": [
    {
     "data": {
      "text/plain": [
       "array([[58.20238513,  1.45044418,  0.0913355 ]])"
      ]
     },
     "execution_count": 3,
     "metadata": {},
     "output_type": "execute_result"
    }
   ],
   "source": [
    "data[0][2]"
   ]
  },
  {
   "cell_type": "code",
   "execution_count": 4,
   "metadata": {},
   "outputs": [
    {
     "data": {
      "text/plain": [
       "583"
      ]
     },
     "execution_count": 4,
     "metadata": {},
     "output_type": "execute_result"
    }
   ],
   "source": [
    "# The length of each pickle file is \n",
    "# how many synchonized, labeled pressure mat images are sampled\n",
    "len(data)"
   ]
  },
  {
   "cell_type": "markdown",
   "metadata": {},
   "source": [
    "p_map_raw, target_raw, _ = data[0]\n",
    "1. p_map_raw: pressure map\n",
    "2. target_raw: 10个关节点的x-y-z 笛卡尔坐标"
   ]
  },
  {
   "cell_type": "code",
   "execution_count": 5,
   "metadata": {},
   "outputs": [
    {
     "data": {
      "text/plain": [
       "array([[-0.06152848,  0.82345998,  1.10630262],\n",
       "       [-0.02000507,  0.98300457,  0.69516957],\n",
       "       [ 0.22060703,  0.93310547,  0.58632934],\n",
       "       [-0.2742109 ,  0.91789883,  0.56635147],\n",
       "       [ 0.24911562,  1.10961151,  0.54902923],\n",
       "       [-0.28884435,  1.08263433,  0.56569612],\n",
       "       [ 0.01743633,  1.4416393 ,  0.6379686 ],\n",
       "       [-0.18552387,  1.42212069,  0.61743814],\n",
       "       [ 0.04843779,  1.79761362,  0.58510745],\n",
       "       [-0.13912711,  1.83685684,  0.57972878]])"
      ]
     },
     "execution_count": 5,
     "metadata": {},
     "output_type": "execute_result"
    }
   ],
   "source": [
    "# pressure mat: 27x64 pixels\n",
    "p_map_raw, target_raw, _ = data[46]\n",
    "image = np.reshape(p_map_raw, (64,27))\n",
    "# p_map_raw.shape\n",
    "target_raw\n"
   ]
  },
  {
   "cell_type": "code",
   "execution_count": 11,
   "metadata": {},
   "outputs": [
    {
     "data": {
      "image/png": "[encoded data removed]",
      "text/plain": [
       "<Figure size 432x288 with 1 Axes>"
      ]
     },
     "metadata": {
      "needs_background": "light"
     },
     "output_type": "display_data"
    }
   ],
   "source": [
    "import numpy as np\n",
    "import matplotlib.pyplot as plt\n",
    "from mpl_toolkits.mplot3d import Axes3D\n",
    "\n",
    "# 生成示例数据\n",
    "nodes_3d = target_raw\n",
    "labels = [f'Point {i}' for i in range(len(nodes_3d))]\n",
    "\n",
    "# 创建3D可视化窗口\n",
    "fig = plt.figure()\n",
    "ax = fig.add_subplot(111, projection='3d')\n",
    "\n",
    "# 绘制散点图\n",
    "ax.scatter(nodes_3d[:, 0], nodes_3d[:, 1], nodes_3d[:, 2], c='b', marker='o')\n",
    "\n",
    "# 添加标签\n",
    "for label, x, y, z in zip(labels, nodes_3d[:, 0], nodes_3d[:, 1], nodes_3d[:, 2]):\n",
    "    ax.text(x, y, z, label)\n",
    "\n",
    "# 设置坐标轴标签\n",
    "ax.set_xlabel('X')\n",
    "ax.set_ylabel('Y')\n",
    "ax.set_zlabel('Z')\n",
    "\n",
    "# 显示图形\n",
    "plt.show()\n"
   ]
  },
  {
   "cell_type": "code",
   "execution_count": 12,
   "metadata": {},
   "outputs": [],
   "source": [
    "import numpy as np\n",
    "import open3d as o3d\n",
    "\n",
    "# 生成示例数据，这里假设你有一个（10，3）的3D关节点数组\n",
    "nodes_3d = target_raw\n",
    "\n",
    "# 创建一个Open3D点云对象\n",
    "pcd = o3d.geometry.PointCloud()\n",
    "\n",
    "# 设置点云数据\n",
    "pcd.points = o3d.utility.Vector3dVector(nodes_3d)\n",
    "\n",
    "# 创建可视化窗口\n",
    "o3d.visualization.draw_geometries([pcd])\n"
   ]
  },
  {
   "cell_type": "code",
   "execution_count": 13,
   "metadata": {},
   "outputs": [],
   "source": [
    "import cv2\n",
    "\n",
    "# 图片路径列表\n",
    "\n",
    "# 创建多个窗口并显示图片\n",
    "for i, frame in enumerate(data):\n",
    "    p_map_raw, target_raw, _ = frame\n",
    "    image = np.reshape(p_map_raw, (64,27))\n",
    "\n",
    "    # 创建窗口并显示图片\n",
    "    window_name = f'Image {i + 1}, 按esc停止'\n",
    "    cv2.namedWindow(window_name, cv2.WINDOW_NORMAL)\n",
    "    cv2.imshow(window_name, image)\n",
    "    key = cv2.waitKey(500)\n",
    "    cv2.destroyAllWindows()\n",
    "    if key == 27 :\n",
    "        break\n",
    "\n"
   ]
  },
  {
   "cell_type": "code",
   "execution_count": 25,
   "metadata": {},
   "outputs": [
    {
     "ename": "ValueError",
     "evalue": "too many values to unpack (expected 2)",
     "output_type": "error",
     "traceback": [
      "\u001b[1;31m---------------------------------------------------------------------------\u001b[0m",
      "\u001b[1;31mValueError\u001b[0m                                Traceback (most recent call last)",
      "\u001b[1;32m<ipython-input-25-984dbd979c2d>\u001b[0m in \u001b[0;36m<module>\u001b[1;34m\u001b[0m\n\u001b[1;32m----> 1\u001b[1;33m \u001b[1;33m[\u001b[0m\u001b[0mp_world_mat\u001b[0m\u001b[1;33m,\u001b[0m \u001b[0mR_world_mat\u001b[0m\u001b[1;33m]\u001b[0m \u001b[1;33m=\u001b[0m \u001b[0mdp\u001b[0m\u001b[1;33m.\u001b[0m\u001b[0mload_pickle\u001b[0m\u001b[1;33m(\u001b[0m\u001b[0mpath\u001b[0m\u001b[1;33m)\u001b[0m\u001b[1;33m\u001b[0m\u001b[1;33m\u001b[0m\u001b[0m\n\u001b[0m",
      "\u001b[1;31mValueError\u001b[0m: too many values to unpack (expected 2)"
     ]
    }
   ],
   "source": [
    "[p_world_mat, R_world_mat] = dp.load_pickle(path)\n"
   ]
  },
  {
   "cell_type": "code",
   "execution_count": null,
   "metadata": {},
   "outputs": [],
   "source": [
    "from create_dataset_lib import CreateDatasetLib\n",
    "target_mat = CreateDatasetLib().world_to_mat(target_raw, p_world_mat, R_world_mat)"
   ]
  },
  {
   "cell_type": "markdown",
   "metadata": {},
   "source": []
  },
  {
   "cell_type": "code",
   "execution_count": 9,
   "metadata": {},
   "outputs": [],
   "source": [
    "root_dir = r\"D:\\workspace\\python_ws\\bodies-at-rest-master\\data_BR\\real\"\n",
    "new_dir = r\"D:\\workspace\\python_ws\\Pose_classification-master\\src\\Real_Data\"\n",
    "\n",
    "spam = sr.BodiesAtRestReal(root_dir = root_dir,new_dir = new_dir)"
   ]
  },
  {
   "cell_type": "code",
   "execution_count": 10,
   "metadata": {},
   "outputs": [],
   "source": [
    "spam.load_files()\n"
   ]
  },
  {
   "cell_type": "code",
   "execution_count": 49,
   "metadata": {},
   "outputs": [
    {
     "name": "stdout",
     "output_type": "stream",
     "text": [
      "dict_keys(['S103', 'S104', 'S107', 'S114', 'S118', 'S121', 'S130', 'S134', 'S140', 'S141', 'S145', 'S151', 'S163', 'S165', 'S170', 'S179', 'S184', 'S187', 'S188', 'S196'])\n",
      "dict_keys(['participant_info', 'prescribed', 'p_select'])\n",
      "dict_keys(['pmat_corners', 'pose_type', 'depth', 'pc', 'RGB', 'images'])\n",
      "5\n"
     ]
    }
   ],
   "source": [
    "print(spam.dat.keys())\n",
    "print(spam.dat['S103'].keys())\n",
    "print(spam.dat['S103']['prescribed'].keys())\n",
    "\n",
    "print(len(spam.dat['S103']['p_select']['pc']))\n",
    "imgs = spam.dat['S103']['p_select']['images']"
   ]
  },
  {
   "cell_type": "code",
   "execution_count": 46,
   "metadata": {},
   "outputs": [],
   "source": [
    "import cv2\n",
    "\n",
    "# 图片路径列表\n",
    "\n",
    "# 创建多个窗口并显示图片\n",
    "for i, image in enumerate(imgs):\n",
    "\n",
    "    # 创建窗口并显示图片\n",
    "    window_name = f'Image {i + 1}'\n",
    "    cv2.namedWindow(window_name, cv2.WINDOW_NORMAL)\n",
    "    cv2.imshow(window_name, image)\n",
    "\n",
    "# 等待用户按下任意键\n",
    "cv2.waitKey(0)\n",
    "\n",
    "# 关闭所有窗口\n",
    "cv2.destroyAllWindows()\n"
   ]
  }
 ],
 "metadata": {
  "kernelspec": {
   "display_name": "pt1.2",
   "language": "python",
   "name": "python3"
  },
  "language_info": {
   "codemirror_mode": {
    "name": "ipython",
    "version": 3
   },
   "file_extension": ".py",
   "mimetype": "text/x-python",
   "name": "python",
   "nbconvert_exporter": "python",
   "pygments_lexer": "ipython3",
   "version": "3.6.13"
  },
  "orig_nbformat": 4
 },
 "nbformat": 4,
 "nbformat_minor": 2
}
